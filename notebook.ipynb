{
 "cells": [
  {
   "cell_type": "markdown",
   "source": [
    "# Preprocessing\n",
    "- Stem the Data (run/running/ran --> ran)\n",
    "- Identify the most commonly used words in decription\n",
    "- One hot encody top top 10(ish) of the nontrvial words\n",
    "- Scale the Data\n",
    "- PCA (95% of variation captured)\n",
    "\n",
    "# Models\n",
    "\n",
    "- Linear Regression\n",
    "- Decision Tree Regression\n",
    "- [Plot Tree Regression](https://scikit-learn.org/stable/auto_examples/tree/plot_tree_regression.html)\n",
    "- Perceptron\n",
    "- Neural Netwrok\n",
    "\n",
    "# Set Hyperparameters\n",
    "\n",
    "Use 10-fold cross validation to tune hyperparameters\n",
    "- using RSS as an error metric?"
   ],
   "metadata": {
    "collapsed": false,
    "pycharm": {
     "name": "#%% md\n"
    }
   }
  },
  {
   "cell_type": "code",
   "execution_count": null,
   "outputs": [],
   "source": [
    "print('hello world')"
   ],
   "metadata": {
    "collapsed": false,
    "pycharm": {
     "name": "#%%\n"
    }
   }
  }
 ],
 "metadata": {
  "kernelspec": {
   "display_name": "Python 3",
   "language": "python",
   "name": "python3"
  },
  "language_info": {
   "codemirror_mode": {
    "name": "ipython",
    "version": 2
   },
   "file_extension": ".py",
   "mimetype": "text/x-python",
   "name": "python",
   "nbconvert_exporter": "python",
   "pygments_lexer": "ipython2",
   "version": "2.7.6"
  }
 },
 "nbformat": 4,
 "nbformat_minor": 0
}