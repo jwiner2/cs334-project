{
 "cells": [
  {
   "cell_type": "markdown",
   "source": [
    "# Preprocessing\n",
    "- Stem the Data (run/running/ran --> ran)\n",
    "- Identify the most commonly used words in decription\n",
    "- One hot encody top top 10(ish) of the nontrvial words\n",
    "- Scale the Data\n",
    "- PCA (95% of variation captured)\n",
    "\n",
    "# Models\n",
    "\n",
    "- Linear Regression\n",
    "- Decision Tree Regression\n",
    "- [Plot Tree Regression](https://scikit-learn.org/stable/auto_examples/tree/plot_tree_regression.html)\n",
    "- Perceptron\n",
    "- Neural Network\n",
    "\n",
    "# Set Hyperparameters\n",
    "\n",
    "Use 10-fold cross validation to tune hyperparameters\n",
    "- using RSS as an error metric?"
   ],
   "metadata": {
    "collapsed": false,
    "pycharm": {
     "name": "#%% md\n"
    }
   }
  },
  {
   "cell_type": "code",
   "execution_count": 1,
   "metadata": {},
   "outputs": [],
   "source": [
    "import pandas as pd\n",
    "import numpy as np\n",
    "from nltk.stem import PorterStemmer\n",
    "from nltk.tokenize import word_tokenize\n",
    "from nltk.corpus import stopwords#stopwords are words like \"is\", and \"the\"\n",
    "from sklearn.model_selection import train_test_split\n",
    "from tqdm import tqdm #pip install tqdm, loading bar for visualization\n",
    "import string#to access a convinient list of punctiation\n",
    "import re#to replace numbers in strings\n",
    "from collections import Counter\n",
    "from sklearn.feature_extraction.text import CountVectorizer"
   ]
  },
  {
   "cell_type": "code",
   "execution_count": 2,
   "metadata": {},
   "outputs": [],
   "source": [
    "\n",
    "df = pd.read_csv(\"data/winemag-data-130k-v2.csv\", index_col=0)"
   ]
  },
  {
   "cell_type": "code",
   "execution_count": 3,
   "metadata": {},
   "outputs": [
    {
     "output_type": "execute_result",
     "data": {
      "text/plain": [
       "         country                                        description  \\\n",
       "0          Italy  Aromas include tropical fruit, broom, brimston...   \n",
       "1       Portugal  This is ripe and fruity, a wine that is smooth...   \n",
       "2             US  Tart and snappy, the flavors of lime flesh and...   \n",
       "3             US  Pineapple rind, lemon pith and orange blossom ...   \n",
       "4             US  Much like the regular bottling from 2012, this...   \n",
       "...          ...                                                ...   \n",
       "129966   Germany  Notes of honeysuckle and cantaloupe sweeten th...   \n",
       "129967        US  Citation is given as much as a decade of bottl...   \n",
       "129968    France  Well-drained gravel soil gives this wine its c...   \n",
       "129969    France  A dry style of Pinot Gris, this is crisp with ...   \n",
       "129970    France  Big, rich and off-dry, this is powered by inte...   \n",
       "\n",
       "                                   designation  points  price  \\\n",
       "0                                 Vulkà Bianco      87    NaN   \n",
       "1                                     Avidagos      87   15.0   \n",
       "2                                          NaN      87   14.0   \n",
       "3                         Reserve Late Harvest      87   13.0   \n",
       "4           Vintner's Reserve Wild Child Block      87   65.0   \n",
       "...                                        ...     ...    ...   \n",
       "129966  Brauneberger Juffer-Sonnenuhr Spätlese      90   28.0   \n",
       "129967                                     NaN      90   75.0   \n",
       "129968                                   Kritt      90   30.0   \n",
       "129969                                     NaN      90   32.0   \n",
       "129970           Lieu-dit Harth Cuvée Caroline      90   21.0   \n",
       "\n",
       "                 province             region_1           region_2  \\\n",
       "0       Sicily & Sardinia                 Etna                NaN   \n",
       "1                   Douro                  NaN                NaN   \n",
       "2                  Oregon    Willamette Valley  Willamette Valley   \n",
       "3                Michigan  Lake Michigan Shore                NaN   \n",
       "4                  Oregon    Willamette Valley  Willamette Valley   \n",
       "...                   ...                  ...                ...   \n",
       "129966              Mosel                  NaN                NaN   \n",
       "129967             Oregon               Oregon       Oregon Other   \n",
       "129968             Alsace               Alsace                NaN   \n",
       "129969             Alsace               Alsace                NaN   \n",
       "129970             Alsace               Alsace                NaN   \n",
       "\n",
       "               taster_name taster_twitter_handle  \\\n",
       "0            Kerin O’Keefe          @kerinokeefe   \n",
       "1               Roger Voss            @vossroger   \n",
       "2             Paul Gregutt           @paulgwine    \n",
       "3       Alexander Peartree                   NaN   \n",
       "4             Paul Gregutt           @paulgwine    \n",
       "...                    ...                   ...   \n",
       "129966  Anna Lee C. Iijima                   NaN   \n",
       "129967        Paul Gregutt           @paulgwine    \n",
       "129968          Roger Voss            @vossroger   \n",
       "129969          Roger Voss            @vossroger   \n",
       "129970          Roger Voss            @vossroger   \n",
       "\n",
       "                                                    title         variety  \\\n",
       "0                       Nicosia 2013 Vulkà Bianco  (Etna)     White Blend   \n",
       "1           Quinta dos Avidagos 2011 Avidagos Red (Douro)  Portuguese Red   \n",
       "2           Rainstorm 2013 Pinot Gris (Willamette Valley)      Pinot Gris   \n",
       "3       St. Julian 2013 Reserve Late Harvest Riesling ...        Riesling   \n",
       "4       Sweet Cheeks 2012 Vintner's Reserve Wild Child...      Pinot Noir   \n",
       "...                                                   ...             ...   \n",
       "129966  Dr. H. Thanisch (Erben Müller-Burggraef) 2013 ...        Riesling   \n",
       "129967                  Citation 2004 Pinot Noir (Oregon)      Pinot Noir   \n",
       "129968  Domaine Gresser 2013 Kritt Gewurztraminer (Als...  Gewürztraminer   \n",
       "129969      Domaine Marcel Deiss 2012 Pinot Gris (Alsace)      Pinot Gris   \n",
       "129970  Domaine Schoffit 2012 Lieu-dit Harth Cuvée Car...  Gewürztraminer   \n",
       "\n",
       "                                          winery  \n",
       "0                                        Nicosia  \n",
       "1                            Quinta dos Avidagos  \n",
       "2                                      Rainstorm  \n",
       "3                                     St. Julian  \n",
       "4                                   Sweet Cheeks  \n",
       "...                                          ...  \n",
       "129966  Dr. H. Thanisch (Erben Müller-Burggraef)  \n",
       "129967                                  Citation  \n",
       "129968                           Domaine Gresser  \n",
       "129969                      Domaine Marcel Deiss  \n",
       "129970                          Domaine Schoffit  \n",
       "\n",
       "[129971 rows x 13 columns]"
      ],
      "text/html": "<div>\n<style scoped>\n    .dataframe tbody tr th:only-of-type {\n        vertical-align: middle;\n    }\n\n    .dataframe tbody tr th {\n        vertical-align: top;\n    }\n\n    .dataframe thead th {\n        text-align: right;\n    }\n</style>\n<table border=\"1\" class=\"dataframe\">\n  <thead>\n    <tr style=\"text-align: right;\">\n      <th></th>\n      <th>country</th>\n      <th>description</th>\n      <th>designation</th>\n      <th>points</th>\n      <th>price</th>\n      <th>province</th>\n      <th>region_1</th>\n      <th>region_2</th>\n      <th>taster_name</th>\n      <th>taster_twitter_handle</th>\n      <th>title</th>\n      <th>variety</th>\n      <th>winery</th>\n    </tr>\n  </thead>\n  <tbody>\n    <tr>\n      <th>0</th>\n      <td>Italy</td>\n      <td>Aromas include tropical fruit, broom, brimston...</td>\n      <td>Vulkà Bianco</td>\n      <td>87</td>\n      <td>NaN</td>\n      <td>Sicily &amp; Sardinia</td>\n      <td>Etna</td>\n      <td>NaN</td>\n      <td>Kerin O’Keefe</td>\n      <td>@kerinokeefe</td>\n      <td>Nicosia 2013 Vulkà Bianco  (Etna)</td>\n      <td>White Blend</td>\n      <td>Nicosia</td>\n    </tr>\n    <tr>\n      <th>1</th>\n      <td>Portugal</td>\n      <td>This is ripe and fruity, a wine that is smooth...</td>\n      <td>Avidagos</td>\n      <td>87</td>\n      <td>15.0</td>\n      <td>Douro</td>\n      <td>NaN</td>\n      <td>NaN</td>\n      <td>Roger Voss</td>\n      <td>@vossroger</td>\n      <td>Quinta dos Avidagos 2011 Avidagos Red (Douro)</td>\n      <td>Portuguese Red</td>\n      <td>Quinta dos Avidagos</td>\n    </tr>\n    <tr>\n      <th>2</th>\n      <td>US</td>\n      <td>Tart and snappy, the flavors of lime flesh and...</td>\n      <td>NaN</td>\n      <td>87</td>\n      <td>14.0</td>\n      <td>Oregon</td>\n      <td>Willamette Valley</td>\n      <td>Willamette Valley</td>\n      <td>Paul Gregutt</td>\n      <td>@paulgwine</td>\n      <td>Rainstorm 2013 Pinot Gris (Willamette Valley)</td>\n      <td>Pinot Gris</td>\n      <td>Rainstorm</td>\n    </tr>\n    <tr>\n      <th>3</th>\n      <td>US</td>\n      <td>Pineapple rind, lemon pith and orange blossom ...</td>\n      <td>Reserve Late Harvest</td>\n      <td>87</td>\n      <td>13.0</td>\n      <td>Michigan</td>\n      <td>Lake Michigan Shore</td>\n      <td>NaN</td>\n      <td>Alexander Peartree</td>\n      <td>NaN</td>\n      <td>St. Julian 2013 Reserve Late Harvest Riesling ...</td>\n      <td>Riesling</td>\n      <td>St. Julian</td>\n    </tr>\n    <tr>\n      <th>4</th>\n      <td>US</td>\n      <td>Much like the regular bottling from 2012, this...</td>\n      <td>Vintner's Reserve Wild Child Block</td>\n      <td>87</td>\n      <td>65.0</td>\n      <td>Oregon</td>\n      <td>Willamette Valley</td>\n      <td>Willamette Valley</td>\n      <td>Paul Gregutt</td>\n      <td>@paulgwine</td>\n      <td>Sweet Cheeks 2012 Vintner's Reserve Wild Child...</td>\n      <td>Pinot Noir</td>\n      <td>Sweet Cheeks</td>\n    </tr>\n    <tr>\n      <th>...</th>\n      <td>...</td>\n      <td>...</td>\n      <td>...</td>\n      <td>...</td>\n      <td>...</td>\n      <td>...</td>\n      <td>...</td>\n      <td>...</td>\n      <td>...</td>\n      <td>...</td>\n      <td>...</td>\n      <td>...</td>\n      <td>...</td>\n    </tr>\n    <tr>\n      <th>129966</th>\n      <td>Germany</td>\n      <td>Notes of honeysuckle and cantaloupe sweeten th...</td>\n      <td>Brauneberger Juffer-Sonnenuhr Spätlese</td>\n      <td>90</td>\n      <td>28.0</td>\n      <td>Mosel</td>\n      <td>NaN</td>\n      <td>NaN</td>\n      <td>Anna Lee C. Iijima</td>\n      <td>NaN</td>\n      <td>Dr. H. Thanisch (Erben Müller-Burggraef) 2013 ...</td>\n      <td>Riesling</td>\n      <td>Dr. H. Thanisch (Erben Müller-Burggraef)</td>\n    </tr>\n    <tr>\n      <th>129967</th>\n      <td>US</td>\n      <td>Citation is given as much as a decade of bottl...</td>\n      <td>NaN</td>\n      <td>90</td>\n      <td>75.0</td>\n      <td>Oregon</td>\n      <td>Oregon</td>\n      <td>Oregon Other</td>\n      <td>Paul Gregutt</td>\n      <td>@paulgwine</td>\n      <td>Citation 2004 Pinot Noir (Oregon)</td>\n      <td>Pinot Noir</td>\n      <td>Citation</td>\n    </tr>\n    <tr>\n      <th>129968</th>\n      <td>France</td>\n      <td>Well-drained gravel soil gives this wine its c...</td>\n      <td>Kritt</td>\n      <td>90</td>\n      <td>30.0</td>\n      <td>Alsace</td>\n      <td>Alsace</td>\n      <td>NaN</td>\n      <td>Roger Voss</td>\n      <td>@vossroger</td>\n      <td>Domaine Gresser 2013 Kritt Gewurztraminer (Als...</td>\n      <td>Gewürztraminer</td>\n      <td>Domaine Gresser</td>\n    </tr>\n    <tr>\n      <th>129969</th>\n      <td>France</td>\n      <td>A dry style of Pinot Gris, this is crisp with ...</td>\n      <td>NaN</td>\n      <td>90</td>\n      <td>32.0</td>\n      <td>Alsace</td>\n      <td>Alsace</td>\n      <td>NaN</td>\n      <td>Roger Voss</td>\n      <td>@vossroger</td>\n      <td>Domaine Marcel Deiss 2012 Pinot Gris (Alsace)</td>\n      <td>Pinot Gris</td>\n      <td>Domaine Marcel Deiss</td>\n    </tr>\n    <tr>\n      <th>129970</th>\n      <td>France</td>\n      <td>Big, rich and off-dry, this is powered by inte...</td>\n      <td>Lieu-dit Harth Cuvée Caroline</td>\n      <td>90</td>\n      <td>21.0</td>\n      <td>Alsace</td>\n      <td>Alsace</td>\n      <td>NaN</td>\n      <td>Roger Voss</td>\n      <td>@vossroger</td>\n      <td>Domaine Schoffit 2012 Lieu-dit Harth Cuvée Car...</td>\n      <td>Gewürztraminer</td>\n      <td>Domaine Schoffit</td>\n    </tr>\n  </tbody>\n</table>\n<p>129971 rows × 13 columns</p>\n</div>"
     },
     "metadata": {},
     "execution_count": 3
    }
   ],
   "source": [
    "df"
   ]
  },
  {
   "cell_type": "code",
   "execution_count": 4,
   "metadata": {},
   "outputs": [
    {
     "output_type": "stream",
     "name": "stdout",
     "text": [
      "country: 0.0485%\ndescription: 0.0%\ndesignation: 28.8257%\npoints: 0.0%\nprice: 6.9215%\nprovince: 0.0485%\nregion_1: 16.3475%\nregion_2: 61.1367%\ntaster_name: 20.1922%\ntaster_twitter_handle: 24.0154%\ntitle: 0.0%\nvariety: 0.0008%\nwinery: 0.0%\n"
     ]
    }
   ],
   "source": [
    "for attr in df:\n",
    "    print(f\"{attr}: {round((sum(df[attr].isnull())/df.shape[0])*100,4)}%\")"
   ]
  },
  {
   "cell_type": "code",
   "execution_count": 25,
   "metadata": {},
   "outputs": [],
   "source": [
    "def text_stemming(df):\n",
    "    stop_words = set(stopwords.words(\"english\"))\n",
    "    unhelpful_words = set([\"wine\", \"drink\"])\n",
    "\n",
    "    stemmer = PorterStemmer()\n",
    "    xFeat = df.to_numpy()\n",
    "    newDescription = []\n",
    "    l = len(xFeat)\n",
    "    for i in tqdm(range (l), desc=\"Stemming\"):\n",
    "        wordList = word_tokenize(re.sub(r'\\d+', 'number', (xFeat[i].lower()).translate(str.maketrans('', '', string.punctuation)))) #splits the words into a list, and lowercases them\n",
    "        description = []\n",
    "        for item in wordList:\n",
    "            if item not in stop_words:#we can get rid of stop words: \"is\", \"a\", \"the\"\n",
    "                candidate = stemmer.stem(item)\n",
    "                if candidate not in unhelpful_words:\n",
    "                    description.append(candidate) #replace each word with its stem\n",
    "        newDescription.append(np.array(candidate))\n",
    "    return pd.DataFrame(newDescription)"
   ]
  },
  {
   "cell_type": "code",
   "execution_count": 26,
   "metadata": {
    "tags": []
   },
   "outputs": [
    {
     "output_type": "stream",
     "name": "stderr",
     "text": [
      "Stemming:  93%|█████████▎| 112576/120975 [00:08<00:00, 12614.45it/s]\n"
     ]
    },
    {
     "output_type": "error",
     "ename": "AttributeError",
     "evalue": "'float' object has no attribute 'lower'",
     "traceback": [
      "\u001b[1;31m---------------------------------------------------------------------------\u001b[0m",
      "\u001b[1;31mAttributeError\u001b[0m                            Traceback (most recent call last)",
      "\u001b[1;32m<ipython-input-26-f83a8d110bc2>\u001b[0m in \u001b[0;36m<module>\u001b[1;34m\u001b[0m\n\u001b[1;32m----> 1\u001b[1;33m \u001b[0mdf\u001b[0m\u001b[1;33m[\u001b[0m\u001b[1;34m\"description\"\u001b[0m\u001b[1;33m]\u001b[0m \u001b[1;33m=\u001b[0m \u001b[0mtext_stemming\u001b[0m\u001b[1;33m(\u001b[0m\u001b[0mdf\u001b[0m\u001b[1;33m[\u001b[0m\u001b[1;34m\"description\"\u001b[0m\u001b[1;33m]\u001b[0m\u001b[1;33m)\u001b[0m\u001b[1;33m\u001b[0m\u001b[1;33m\u001b[0m\u001b[0m\n\u001b[0m",
      "\u001b[1;32m<ipython-input-25-2e54188a372f>\u001b[0m in \u001b[0;36mtext_stemming\u001b[1;34m(df)\u001b[0m\n\u001b[0;32m      7\u001b[0m     \u001b[0ml\u001b[0m \u001b[1;33m=\u001b[0m \u001b[0mlen\u001b[0m\u001b[1;33m(\u001b[0m\u001b[0mxFeat\u001b[0m\u001b[1;33m)\u001b[0m\u001b[1;33m\u001b[0m\u001b[1;33m\u001b[0m\u001b[0m\n\u001b[0;32m      8\u001b[0m     \u001b[1;32mfor\u001b[0m \u001b[0mi\u001b[0m \u001b[1;32min\u001b[0m \u001b[0mtqdm\u001b[0m\u001b[1;33m(\u001b[0m\u001b[0mrange\u001b[0m \u001b[1;33m(\u001b[0m\u001b[0ml\u001b[0m\u001b[1;33m)\u001b[0m\u001b[1;33m,\u001b[0m \u001b[0mdesc\u001b[0m\u001b[1;33m=\u001b[0m\u001b[1;34m\"Stemming\"\u001b[0m\u001b[1;33m)\u001b[0m\u001b[1;33m:\u001b[0m\u001b[1;33m\u001b[0m\u001b[1;33m\u001b[0m\u001b[0m\n\u001b[1;32m----> 9\u001b[1;33m         \u001b[0mwordList\u001b[0m \u001b[1;33m=\u001b[0m \u001b[0mword_tokenize\u001b[0m\u001b[1;33m(\u001b[0m\u001b[0mre\u001b[0m\u001b[1;33m.\u001b[0m\u001b[0msub\u001b[0m\u001b[1;33m(\u001b[0m\u001b[1;34mr'\\d+'\u001b[0m\u001b[1;33m,\u001b[0m \u001b[1;34m'number'\u001b[0m\u001b[1;33m,\u001b[0m \u001b[1;33m(\u001b[0m\u001b[0mxFeat\u001b[0m\u001b[1;33m[\u001b[0m\u001b[0mi\u001b[0m\u001b[1;33m]\u001b[0m\u001b[1;33m.\u001b[0m\u001b[0mlower\u001b[0m\u001b[1;33m(\u001b[0m\u001b[1;33m)\u001b[0m\u001b[1;33m)\u001b[0m\u001b[1;33m.\u001b[0m\u001b[0mtranslate\u001b[0m\u001b[1;33m(\u001b[0m\u001b[0mstr\u001b[0m\u001b[1;33m.\u001b[0m\u001b[0mmaketrans\u001b[0m\u001b[1;33m(\u001b[0m\u001b[1;34m''\u001b[0m\u001b[1;33m,\u001b[0m \u001b[1;34m''\u001b[0m\u001b[1;33m,\u001b[0m \u001b[0mstring\u001b[0m\u001b[1;33m.\u001b[0m\u001b[0mpunctuation\u001b[0m\u001b[1;33m)\u001b[0m\u001b[1;33m)\u001b[0m\u001b[1;33m)\u001b[0m\u001b[1;33m)\u001b[0m \u001b[1;31m#splits the words into a list, and lowercases them\u001b[0m\u001b[1;33m\u001b[0m\u001b[1;33m\u001b[0m\u001b[0m\n\u001b[0m\u001b[0;32m     10\u001b[0m         \u001b[0mdescription\u001b[0m \u001b[1;33m=\u001b[0m \u001b[1;33m[\u001b[0m\u001b[1;33m]\u001b[0m\u001b[1;33m\u001b[0m\u001b[1;33m\u001b[0m\u001b[0m\n\u001b[0;32m     11\u001b[0m         \u001b[1;32mfor\u001b[0m \u001b[0mitem\u001b[0m \u001b[1;32min\u001b[0m \u001b[0mwordList\u001b[0m\u001b[1;33m:\u001b[0m\u001b[1;33m\u001b[0m\u001b[1;33m\u001b[0m\u001b[0m\n",
      "\u001b[1;31mAttributeError\u001b[0m: 'float' object has no attribute 'lower'"
     ]
    }
   ],
   "source": [
    "df[\"description\"] = text_stemming(df[\"description\"])"
   ]
  },
  {
   "cell_type": "code",
   "execution_count": 20,
   "metadata": {},
   "outputs": [],
   "source": [
    "df.dropna(subset=['price'], inplace=True)"
   ]
  },
  {
   "cell_type": "code",
   "execution_count": 23,
   "metadata": {},
   "outputs": [
    {
     "output_type": "execute_result",
     "data": {
      "text/plain": [
       "         country description                             designation  points  \\\n",
       "1       Portugal     ferment                                Avidagos      87   \n",
       "2             US      finish                                     NaN      87   \n",
       "3             US        stew                    Reserve Late Harvest      87   \n",
       "4             US      grabbi      Vintner's Reserve Wild Child Block      87   \n",
       "5          Spain      tannin                            Ars In Vitro      87   \n",
       "...          ...         ...                                     ...     ...   \n",
       "129966   Germany         NaN  Brauneberger Juffer-Sonnenuhr Spätlese      90   \n",
       "129967        US         NaN                                     NaN      90   \n",
       "129968    France         NaN                                   Kritt      90   \n",
       "129969    France         NaN                                     NaN      90   \n",
       "129970    France         NaN           Lieu-dit Harth Cuvée Caroline      90   \n",
       "\n",
       "        price        province             region_1           region_2  \\\n",
       "1        15.0           Douro                  NaN                NaN   \n",
       "2        14.0          Oregon    Willamette Valley  Willamette Valley   \n",
       "3        13.0        Michigan  Lake Michigan Shore                NaN   \n",
       "4        65.0          Oregon    Willamette Valley  Willamette Valley   \n",
       "5        15.0  Northern Spain              Navarra                NaN   \n",
       "...       ...             ...                  ...                ...   \n",
       "129966   28.0           Mosel                  NaN                NaN   \n",
       "129967   75.0          Oregon               Oregon       Oregon Other   \n",
       "129968   30.0          Alsace               Alsace                NaN   \n",
       "129969   32.0          Alsace               Alsace                NaN   \n",
       "129970   21.0          Alsace               Alsace                NaN   \n",
       "\n",
       "               taster_name taster_twitter_handle  \\\n",
       "1               Roger Voss            @vossroger   \n",
       "2             Paul Gregutt           @paulgwine    \n",
       "3       Alexander Peartree                   NaN   \n",
       "4             Paul Gregutt           @paulgwine    \n",
       "5        Michael Schachner           @wineschach   \n",
       "...                    ...                   ...   \n",
       "129966  Anna Lee C. Iijima                   NaN   \n",
       "129967        Paul Gregutt           @paulgwine    \n",
       "129968          Roger Voss            @vossroger   \n",
       "129969          Roger Voss            @vossroger   \n",
       "129970          Roger Voss            @vossroger   \n",
       "\n",
       "                                                    title             variety  \\\n",
       "1           Quinta dos Avidagos 2011 Avidagos Red (Douro)      Portuguese Red   \n",
       "2           Rainstorm 2013 Pinot Gris (Willamette Valley)          Pinot Gris   \n",
       "3       St. Julian 2013 Reserve Late Harvest Riesling ...            Riesling   \n",
       "4       Sweet Cheeks 2012 Vintner's Reserve Wild Child...          Pinot Noir   \n",
       "5       Tandem 2011 Ars In Vitro Tempranillo-Merlot (N...  Tempranillo-Merlot   \n",
       "...                                                   ...                 ...   \n",
       "129966  Dr. H. Thanisch (Erben Müller-Burggraef) 2013 ...            Riesling   \n",
       "129967                  Citation 2004 Pinot Noir (Oregon)          Pinot Noir   \n",
       "129968  Domaine Gresser 2013 Kritt Gewurztraminer (Als...      Gewürztraminer   \n",
       "129969      Domaine Marcel Deiss 2012 Pinot Gris (Alsace)          Pinot Gris   \n",
       "129970  Domaine Schoffit 2012 Lieu-dit Harth Cuvée Car...      Gewürztraminer   \n",
       "\n",
       "                                          winery  \n",
       "1                            Quinta dos Avidagos  \n",
       "2                                      Rainstorm  \n",
       "3                                     St. Julian  \n",
       "4                                   Sweet Cheeks  \n",
       "5                                         Tandem  \n",
       "...                                          ...  \n",
       "129966  Dr. H. Thanisch (Erben Müller-Burggraef)  \n",
       "129967                                  Citation  \n",
       "129968                           Domaine Gresser  \n",
       "129969                      Domaine Marcel Deiss  \n",
       "129970                          Domaine Schoffit  \n",
       "\n",
       "[120975 rows x 13 columns]"
      ],
      "text/html": "<div>\n<style scoped>\n    .dataframe tbody tr th:only-of-type {\n        vertical-align: middle;\n    }\n\n    .dataframe tbody tr th {\n        vertical-align: top;\n    }\n\n    .dataframe thead th {\n        text-align: right;\n    }\n</style>\n<table border=\"1\" class=\"dataframe\">\n  <thead>\n    <tr style=\"text-align: right;\">\n      <th></th>\n      <th>country</th>\n      <th>description</th>\n      <th>designation</th>\n      <th>points</th>\n      <th>price</th>\n      <th>province</th>\n      <th>region_1</th>\n      <th>region_2</th>\n      <th>taster_name</th>\n      <th>taster_twitter_handle</th>\n      <th>title</th>\n      <th>variety</th>\n      <th>winery</th>\n    </tr>\n  </thead>\n  <tbody>\n    <tr>\n      <th>1</th>\n      <td>Portugal</td>\n      <td>ferment</td>\n      <td>Avidagos</td>\n      <td>87</td>\n      <td>15.0</td>\n      <td>Douro</td>\n      <td>NaN</td>\n      <td>NaN</td>\n      <td>Roger Voss</td>\n      <td>@vossroger</td>\n      <td>Quinta dos Avidagos 2011 Avidagos Red (Douro)</td>\n      <td>Portuguese Red</td>\n      <td>Quinta dos Avidagos</td>\n    </tr>\n    <tr>\n      <th>2</th>\n      <td>US</td>\n      <td>finish</td>\n      <td>NaN</td>\n      <td>87</td>\n      <td>14.0</td>\n      <td>Oregon</td>\n      <td>Willamette Valley</td>\n      <td>Willamette Valley</td>\n      <td>Paul Gregutt</td>\n      <td>@paulgwine</td>\n      <td>Rainstorm 2013 Pinot Gris (Willamette Valley)</td>\n      <td>Pinot Gris</td>\n      <td>Rainstorm</td>\n    </tr>\n    <tr>\n      <th>3</th>\n      <td>US</td>\n      <td>stew</td>\n      <td>Reserve Late Harvest</td>\n      <td>87</td>\n      <td>13.0</td>\n      <td>Michigan</td>\n      <td>Lake Michigan Shore</td>\n      <td>NaN</td>\n      <td>Alexander Peartree</td>\n      <td>NaN</td>\n      <td>St. Julian 2013 Reserve Late Harvest Riesling ...</td>\n      <td>Riesling</td>\n      <td>St. Julian</td>\n    </tr>\n    <tr>\n      <th>4</th>\n      <td>US</td>\n      <td>grabbi</td>\n      <td>Vintner's Reserve Wild Child Block</td>\n      <td>87</td>\n      <td>65.0</td>\n      <td>Oregon</td>\n      <td>Willamette Valley</td>\n      <td>Willamette Valley</td>\n      <td>Paul Gregutt</td>\n      <td>@paulgwine</td>\n      <td>Sweet Cheeks 2012 Vintner's Reserve Wild Child...</td>\n      <td>Pinot Noir</td>\n      <td>Sweet Cheeks</td>\n    </tr>\n    <tr>\n      <th>5</th>\n      <td>Spain</td>\n      <td>tannin</td>\n      <td>Ars In Vitro</td>\n      <td>87</td>\n      <td>15.0</td>\n      <td>Northern Spain</td>\n      <td>Navarra</td>\n      <td>NaN</td>\n      <td>Michael Schachner</td>\n      <td>@wineschach</td>\n      <td>Tandem 2011 Ars In Vitro Tempranillo-Merlot (N...</td>\n      <td>Tempranillo-Merlot</td>\n      <td>Tandem</td>\n    </tr>\n    <tr>\n      <th>...</th>\n      <td>...</td>\n      <td>...</td>\n      <td>...</td>\n      <td>...</td>\n      <td>...</td>\n      <td>...</td>\n      <td>...</td>\n      <td>...</td>\n      <td>...</td>\n      <td>...</td>\n      <td>...</td>\n      <td>...</td>\n      <td>...</td>\n    </tr>\n    <tr>\n      <th>129966</th>\n      <td>Germany</td>\n      <td>NaN</td>\n      <td>Brauneberger Juffer-Sonnenuhr Spätlese</td>\n      <td>90</td>\n      <td>28.0</td>\n      <td>Mosel</td>\n      <td>NaN</td>\n      <td>NaN</td>\n      <td>Anna Lee C. Iijima</td>\n      <td>NaN</td>\n      <td>Dr. H. Thanisch (Erben Müller-Burggraef) 2013 ...</td>\n      <td>Riesling</td>\n      <td>Dr. H. Thanisch (Erben Müller-Burggraef)</td>\n    </tr>\n    <tr>\n      <th>129967</th>\n      <td>US</td>\n      <td>NaN</td>\n      <td>NaN</td>\n      <td>90</td>\n      <td>75.0</td>\n      <td>Oregon</td>\n      <td>Oregon</td>\n      <td>Oregon Other</td>\n      <td>Paul Gregutt</td>\n      <td>@paulgwine</td>\n      <td>Citation 2004 Pinot Noir (Oregon)</td>\n      <td>Pinot Noir</td>\n      <td>Citation</td>\n    </tr>\n    <tr>\n      <th>129968</th>\n      <td>France</td>\n      <td>NaN</td>\n      <td>Kritt</td>\n      <td>90</td>\n      <td>30.0</td>\n      <td>Alsace</td>\n      <td>Alsace</td>\n      <td>NaN</td>\n      <td>Roger Voss</td>\n      <td>@vossroger</td>\n      <td>Domaine Gresser 2013 Kritt Gewurztraminer (Als...</td>\n      <td>Gewürztraminer</td>\n      <td>Domaine Gresser</td>\n    </tr>\n    <tr>\n      <th>129969</th>\n      <td>France</td>\n      <td>NaN</td>\n      <td>NaN</td>\n      <td>90</td>\n      <td>32.0</td>\n      <td>Alsace</td>\n      <td>Alsace</td>\n      <td>NaN</td>\n      <td>Roger Voss</td>\n      <td>@vossroger</td>\n      <td>Domaine Marcel Deiss 2012 Pinot Gris (Alsace)</td>\n      <td>Pinot Gris</td>\n      <td>Domaine Marcel Deiss</td>\n    </tr>\n    <tr>\n      <th>129970</th>\n      <td>France</td>\n      <td>NaN</td>\n      <td>Lieu-dit Harth Cuvée Caroline</td>\n      <td>90</td>\n      <td>21.0</td>\n      <td>Alsace</td>\n      <td>Alsace</td>\n      <td>NaN</td>\n      <td>Roger Voss</td>\n      <td>@vossroger</td>\n      <td>Domaine Schoffit 2012 Lieu-dit Harth Cuvée Car...</td>\n      <td>Gewürztraminer</td>\n      <td>Domaine Schoffit</td>\n    </tr>\n  </tbody>\n</table>\n<p>120975 rows × 13 columns</p>\n</div>"
     },
     "metadata": {},
     "execution_count": 23
    }
   ],
   "source": [
    "df"
   ]
  },
  {
   "source": [
    "# Vectorize"
   ],
   "cell_type": "markdown",
   "metadata": {}
  },
  {
   "cell_type": "code",
   "execution_count": 21,
   "metadata": {},
   "outputs": [],
   "source": [
    "df.to_csv(\"data/data_stemmed.csv\", index = False)"
   ]
  },
  {
   "cell_type": "code",
   "execution_count": 22,
   "metadata": {},
   "outputs": [
    {
     "output_type": "execute_result",
     "data": {
      "text/plain": [
       "    country description                         designation  points  price  \\\n",
       "0  Portugal     ferment                            Avidagos      87   15.0   \n",
       "1        US      finish                                 NaN      87   14.0   \n",
       "2        US        stew                Reserve Late Harvest      87   13.0   \n",
       "3        US      grabbi  Vintner's Reserve Wild Child Block      87   65.0   \n",
       "4     Spain      tannin                        Ars In Vitro      87   15.0   \n",
       "\n",
       "         province             region_1           region_2         taster_name  \\\n",
       "0           Douro                  NaN                NaN          Roger Voss   \n",
       "1          Oregon    Willamette Valley  Willamette Valley        Paul Gregutt   \n",
       "2        Michigan  Lake Michigan Shore                NaN  Alexander Peartree   \n",
       "3          Oregon    Willamette Valley  Willamette Valley        Paul Gregutt   \n",
       "4  Northern Spain              Navarra                NaN   Michael Schachner   \n",
       "\n",
       "  taster_twitter_handle                                              title  \\\n",
       "0            @vossroger      Quinta dos Avidagos 2011 Avidagos Red (Douro)   \n",
       "1           @paulgwine       Rainstorm 2013 Pinot Gris (Willamette Valley)   \n",
       "2                   NaN  St. Julian 2013 Reserve Late Harvest Riesling ...   \n",
       "3           @paulgwine   Sweet Cheeks 2012 Vintner's Reserve Wild Child...   \n",
       "4           @wineschach  Tandem 2011 Ars In Vitro Tempranillo-Merlot (N...   \n",
       "\n",
       "              variety               winery  \n",
       "0      Portuguese Red  Quinta dos Avidagos  \n",
       "1          Pinot Gris            Rainstorm  \n",
       "2            Riesling           St. Julian  \n",
       "3          Pinot Noir         Sweet Cheeks  \n",
       "4  Tempranillo-Merlot               Tandem  "
      ],
      "text/html": "<div>\n<style scoped>\n    .dataframe tbody tr th:only-of-type {\n        vertical-align: middle;\n    }\n\n    .dataframe tbody tr th {\n        vertical-align: top;\n    }\n\n    .dataframe thead th {\n        text-align: right;\n    }\n</style>\n<table border=\"1\" class=\"dataframe\">\n  <thead>\n    <tr style=\"text-align: right;\">\n      <th></th>\n      <th>country</th>\n      <th>description</th>\n      <th>designation</th>\n      <th>points</th>\n      <th>price</th>\n      <th>province</th>\n      <th>region_1</th>\n      <th>region_2</th>\n      <th>taster_name</th>\n      <th>taster_twitter_handle</th>\n      <th>title</th>\n      <th>variety</th>\n      <th>winery</th>\n    </tr>\n  </thead>\n  <tbody>\n    <tr>\n      <th>0</th>\n      <td>Portugal</td>\n      <td>ferment</td>\n      <td>Avidagos</td>\n      <td>87</td>\n      <td>15.0</td>\n      <td>Douro</td>\n      <td>NaN</td>\n      <td>NaN</td>\n      <td>Roger Voss</td>\n      <td>@vossroger</td>\n      <td>Quinta dos Avidagos 2011 Avidagos Red (Douro)</td>\n      <td>Portuguese Red</td>\n      <td>Quinta dos Avidagos</td>\n    </tr>\n    <tr>\n      <th>1</th>\n      <td>US</td>\n      <td>finish</td>\n      <td>NaN</td>\n      <td>87</td>\n      <td>14.0</td>\n      <td>Oregon</td>\n      <td>Willamette Valley</td>\n      <td>Willamette Valley</td>\n      <td>Paul Gregutt</td>\n      <td>@paulgwine</td>\n      <td>Rainstorm 2013 Pinot Gris (Willamette Valley)</td>\n      <td>Pinot Gris</td>\n      <td>Rainstorm</td>\n    </tr>\n    <tr>\n      <th>2</th>\n      <td>US</td>\n      <td>stew</td>\n      <td>Reserve Late Harvest</td>\n      <td>87</td>\n      <td>13.0</td>\n      <td>Michigan</td>\n      <td>Lake Michigan Shore</td>\n      <td>NaN</td>\n      <td>Alexander Peartree</td>\n      <td>NaN</td>\n      <td>St. Julian 2013 Reserve Late Harvest Riesling ...</td>\n      <td>Riesling</td>\n      <td>St. Julian</td>\n    </tr>\n    <tr>\n      <th>3</th>\n      <td>US</td>\n      <td>grabbi</td>\n      <td>Vintner's Reserve Wild Child Block</td>\n      <td>87</td>\n      <td>65.0</td>\n      <td>Oregon</td>\n      <td>Willamette Valley</td>\n      <td>Willamette Valley</td>\n      <td>Paul Gregutt</td>\n      <td>@paulgwine</td>\n      <td>Sweet Cheeks 2012 Vintner's Reserve Wild Child...</td>\n      <td>Pinot Noir</td>\n      <td>Sweet Cheeks</td>\n    </tr>\n    <tr>\n      <th>4</th>\n      <td>Spain</td>\n      <td>tannin</td>\n      <td>Ars In Vitro</td>\n      <td>87</td>\n      <td>15.0</td>\n      <td>Northern Spain</td>\n      <td>Navarra</td>\n      <td>NaN</td>\n      <td>Michael Schachner</td>\n      <td>@wineschach</td>\n      <td>Tandem 2011 Ars In Vitro Tempranillo-Merlot (N...</td>\n      <td>Tempranillo-Merlot</td>\n      <td>Tandem</td>\n    </tr>\n  </tbody>\n</table>\n</div>"
     },
     "metadata": {},
     "execution_count": 22
    }
   ],
   "source": [
    "stemmed = pd.read_csv(\"data/data_stemmed.csv\")\n",
    "stemmed.head()"
   ]
  },
  {
   "cell_type": "code",
   "execution_count": 11,
   "metadata": {},
   "outputs": [
    {
     "output_type": "stream",
     "name": "stdout",
     "text": [
      "Vectorizing...\n",
      "[('flavor', 66947), ('fruit', 53469), ('number', 42263), ('finish', 38962), ('aroma', 38838), ('palat', 36574), ('acid', 35694), ('cherri', 30136), ('tannin', 29951), ('ripe', 25838)]\n"
     ]
    }
   ],
   "source": [
    "vectorizer = CountVectorizer(analyzer='word', tokenizer=word_tokenize, ngram_range=(1, 1), min_df=1)\n",
    "print(\"Vectorizing...\")\n",
    "splitWords = vectorizer.fit_transform(stemmed['description'])\n",
    "vocabMap = list(vectorizer.get_feature_names())\n",
    "# Taken from http://stackoverflow.com/questions/3337301/numpy-matrix-to-array\n",
    "# and http://stackoverflow.com/questions/13567345/how-to-calculate-the-sum-of-all-columns-of-a-2d-numpy-array-efficiently\n",
    "counts = splitWords.sum(axis=0).A1\n",
    "finalMap = Counter(dict(zip(vocabMap, counts)))\n",
    "print(finalMap.most_common(10))"
   ]
  },
  {
   "cell_type": "code",
   "execution_count": 12,
   "metadata": {},
   "outputs": [
    {
     "output_type": "stream",
     "name": "stdout",
     "text": [
      "[('flavor', 66947), ('fruit', 53469), ('number', 42263), ('finish', 38962), ('aroma', 38838), ('palat', 36574), ('acid', 35694), ('cherri', 30136), ('tannin', 29951), ('ripe', 25838), ('note', 23849), ('black', 23809), ('dri', 22821), ('spice', 21245), ('rich', 19644), ('fresh', 19229), ('red', 17784), ('show', 17208), ('oak', 16760), ('berri', 16548), ('nose', 16322), ('offer', 14990), ('plum', 14736), ('blend', 14347), ('blackberri', 14337), ('textur', 14056), ('sweet', 13827), ('appl', 13747), ('balanc', 13451), ('soft', 12904), ('crisp', 12422)]\n"
     ]
    }
   ],
   "source": [
    "print(finalMap.most_common(31))"
   ]
  },
  {
   "cell_type": "code",
   "execution_count": 13,
   "metadata": {},
   "outputs": [],
   "source": [
    " xTrain, xTest, yTrain, yTest = train_test_split(df.loc[:, df.columns != 'price'], df['price'], test_size =.3, random_state = 334)"
   ]
  },
  {
   "source": [
    "# Neural Network\n",
    "\n",
    "Using RNN"
   ],
   "cell_type": "markdown",
   "metadata": {}
  },
  {
   "cell_type": "code",
   "execution_count": 14,
   "metadata": {},
   "outputs": [],
   "source": [
    "import torch\n",
    "import torch.nn as nn\n",
    "from torch.utils.data import TensorDataset, Dataset, DataLoader, random_split\n",
    "from torch.nn import functional as F\n",
    "\n",
    "if not torch.cuda.is_available():\n",
    "    raise EnvironmentError(\"CUDA not available, skipping neural network\")"
   ]
  },
  {
   "cell_type": "code",
   "execution_count": 17,
   "metadata": {},
   "outputs": [
    {
     "output_type": "execute_result",
     "data": {
      "text/plain": [
       "k spice firm palat evok blackberri jam tobacco green pepper alongsid smooth tannin enjoy number ',\n",
       " 'ripe stout smoki darkberri aroma spici bit hot lush merlot warm year volumin chubbi heft full extract spici toasti blackberri cassi flavor come chocolati oak dens chewi mouth coat finish number ',\n",
       " 'full bitter marmalad mapl syrup flavor also show consider woodag flavor structur still show hint fruit also bring strongli matur charact ',\n",
       " 'aroma lee citru almond melon appl spice butter draw glass bring dazzl sens textur fruit spice flavor dappl throughout ',\n",
       " 'garnet eye zippi nose cherri cranberri flavor pomegran cranberri tart cherri nestl wellstructur tannin seem dissolv palat bright finish take hold ',\n",
       " 'green manur note gener barnyard aroma provid aromat interest ’ make excess tart cherri fruit oddli cloy finish ',\n",
       " 'lightli fruiti hint strawberri fruit lace soft acid bitter background pleasant ',\n",
       " 'dens tannic dri bitter dark cocoa black fruit flavor concentr fruit tannin impress give consider complex fruit power alongsid dryness need age rough edg smooth probabl number–numb year ',\n",
       " 'aroma bake plum cake spice whiff dri herb lead way palat straightforward amaron standard offer dri black cherri nutmeg hint licoric alongsid closegrain tannin leav dri finish ',\n",
       " 'vintner adriano gigant deliv thick resini ribolla gialla aroma candi fruit caramel apricot tri pretti ravioli stuf yellow squash ',\n",
       " 'tannic robust reserveti offer smoothli chisel tannin fullbodi flavor like brick black cherri leather clove beg pair hearti meat dish ',\n",
       " 'firmli structur bring spici blaufränkisch boost structur beck entrylevel fine craft tannin ripe berri fruit balanc well freshli grate nutmeg final sweet screwcap ',\n",
       " 'warm gener full ripe fruit weight rich generos although great depth flavor ',\n",
       " 'produc know way around varieti reserveti show burli pedigre leather tobacco strap around huge tannin crisper highton red fruit make felt midway palat finish hand distinct black pepper ',\n",
       " 'note crisp green pear crunchi red appl appet palat fresh echo flavor edg spice alcohol heat also drive energi friendli moreish ',\n",
       " 'innoc bystand ahead moscato curv make number year alway among best australia number perfum spici ampl strawberri cherri fruit soft frothi feel mouth next six month ',\n",
       " 'nuanc white flower lead aroma pear pineappl flavor grapefruit green appl pear finish miner driven delight ',\n",
       " 'pretti good tempranillogarnacha blend simpl fresh berri plum aroma palat snap overt acid bite flavor cherri berri slightli herbal end mild butteri accent touch flimsi keep togeth ',\n",
       " 'hint roast beet forest floor lend rustic ripe red cherri plum fullbodi cabernet franc crisp acid lift lighten midpal smooth suppl tannin hint truffl linger finish ',\n",
       " 'lumin nebbiolo mountain vineyard valtellina open pretti fragranc rose petal red berri bake spice whiff crush rock underst palat deliv ripe wild cherri cinnamonspic licoric miner note alongsid firm finegrain tannin number ',\n",
       " 'live approach vinou tone cherri raspberri cola col di lamo deliv bright foodfriendli brunello there also attract touch chop mint eucalyptu close ',\n",
       " 'chenoweth grapegrow famili made three finest vineyard site chenoweth ranch treehous bootlegg special spot produc grape special produc result smooth velveti express juici cherri raspberri given fresh via vibrant acid ',\n",
       " 'show earthi aroma forest floor plum leather intens note bell pepper whiff red currant carri savori palat fresh acid make perfect match mildli season chees grill burger siena import barsotti ',\n",
       " 'lightweight pinot noir featur highton redfruit aroma flavor strawberri red cherri note domin hint coffe nail polish well ',\n",
       " 'unoak number grenach rosé rich orang cherri apricot vanilla flavor crisp acid clean vibrant mouthfeel love wide varieti fare fri chicken thai food tuna tartar ',\n",
       " 'nice acid clean variet flavor citru tropic fruit apricot peach mark slightli oaki there white sugar note throughout howev turn cloy sip two ',\n",
       " 'bold ripe blackcherri berri flavor pulsat core voluptu pinot noir dens concentr fullbodi neatli integr nuanc subtl shade spice dark toast brambl crisp cranberri acid freshen finish number ',\n",
       " 'dusti appledriven aroma simpl true brut cava feel citric littl flat pithi orang tangerin lime flavor finish clean crisp short ',\n",
       " 'particularli earthi pinot noir beetroot mushroom note dark earthi balanc bright acid suppl tannin palat crisp lean finish show tremend focu length less generos number–numb ',\n",
       " 'spici smoki note dark red berri rich red plum gut tobacco cocoa nose palat finish long load roast coffe bean cocoa final baconi sweet close balanc wellintegr firm overli assert tannin ',\n",
       " 'grass appleflesh note wrap slightli reduct oili frame blend number sauvignon blanc number loureiro number verdelho number grenach blanc number chardonnay flavor also tad tarri greenappl peel lime zest candi pear dri grapefruit ',\n",
       " 'knight valley continu fine spot varieti evidenc extrem vibrant grassi lemon zest melon pure express grape offer enough oomph remain consist textur end succul suggest apricot ',\n",
       " 'focus bright northern italian pinot bianco show intens aroma stone fruit white rose mouthfeel howev set apart thank beauti balanc crisp acid touch sweet soft back ',\n",
       " 'there great stori five gener behind offer nose fresh clean raspberri cranberri crush clove flavor lean steel graphit raspberri perfect serv wide varieti food ',\n",
       " 'char gritti scent ride heavili bouquet also show fresher note cassi raspberri excel via natur feel pulpi palat flavor raspberri red plum accent pepper herb lightli herbal minti finish offer length good textur ',\n",
       " 'lightli tropic peach citru pineappl aroma palat offer mostli sharp citru flavor lime orang finish hold onto theme ',\n",
       " 'initi carmenèr smell green minti heavi herbal blast air settl thing front fresh palat thorough bodi build oak saltedmeat flavor black fruit finish woodi toasti herbal ',\n",
       " 'here blush wash everyth cold cut fri chicken platter fruit de mer dark rosé dri fullbodi strawberri persimmon herb spice flavor blend obscur grape aleatico syrah ',\n",
       " 'eleg chardonnay anderson valley cool vineyard fruiti access also nuanc hint beeswax vanilla delic lemon subtli oak finish note candi fruit ',\n",
       " 'lot rich ripe variet flavor dri tannic young cabernet strong blackberri cassi cedari edg scent cigar box firm enough develop bottl complex next number year ',\n",
       " 'vine form part numberacr jessiaum estat vineyard—on better known beaun premier crus—ha produc fine rich vintag although plenti young wood fruit rich gener fine potenti give opul number ',\n",
       " 'vintag colheita readi bottl readier perfect stage develop dri side although fine dri apricot raisin flavor pois eleg beauti ',\n",
       " 'blackberri ripe elderberri meet white pepper thyme nose bottl winemak tyler russel soft syrupi sip rich blueberri blackberri touch kirsch made interest hint anis mint finish ',\n",
       " 'plush style grape show blackberri black plum fruit lush purpl flower bake spice dust graphit nose palat soft coladriven blackberri pure woodi elderberri violet flavor tannic structur enhanc robust charact ',\n",
       " 'simpl cheer nero davola would pair well white meat roast chicken pork aroma includ blueberri forest berri there touch bitter almond close ',\n",
       " 'warm caramelladen note french toast bake bread mix blackcherri past shave vanilla nose bottl rich full palat load black currant plum fruit touch teriyaki delici chocolatechipcooki qualiti medium tannin approach make easi right ',\n",
       " 'crisp mediumbodi cab good variet definit strathewen hill number cabernet sauvignon boast slightli minti cassisinflect fruit vanilla chocol note smooth mouthfeel suppl tannin finish suggest age well number ',\n",
       " 'open aroma french oak toast menthol coconut lean palat offer mint hint dark spice lack fruit rich brace tannin grip finish ',\n",
       " 'horsey leatheri aroma earthi funki although time blackberri note rise live tough offer brace acid flavor herb licoric lemoni acid support core blackberri fruit finish herbal woodsi dark note espresso black licoric ',\n",
       " 'northernmost beaujolai cru villag ripe full rich cherri flavor enough acid lightli structur dri tannin readi ',\n",
       " 'open strong herbac charact scent forest floor menthol accent red plum cherri core fine tannin medium weight make access hint black pepper licoric spice develop finish ',\n",
       " 'hilltop locat near oceaninfluenc town freeston silki plum dark cherri hint mushroom earth best come robust palat juici berri fruit satisfi finish thick rich ',\n",
       " 'there bright clean qualiti prosecco superior reinforc citru grapefruit stone fruit aroma dri grass honey white flower also play support role ',\n",
       " 'cellar hard tannin perform well even though deep impress flavor crush blackberri cherri cassi violet anis dark chocol cedar show great return form underperform year best number ',\n",
       " 'blend smaller percentag cab franc merlot petit verdot red mountain ava note thick tannic superior age potenti earthi pepperi red fruit buttress vivid acid somewhat chewi tannin age two year number new french oak ',\n",
       " 'round gener pair equal rich red full ripe fruiti soft creami textur underlin broad fruiti appl melon fruit soften fill give delici readytodrink ',\n",
       " 'fruitysweet like one fanci juic blend buy market featur pineappl mango grapefruit crisp acid ',\n",
       " 'soft smooth rare varieti offer moder structur fullbodi aspect forest floor cardamom spice ripe red fruit rule finish spike heat ',\n",
       " 'there uniqu nose singlevineyard bottl joshua klapper black oliv dri fig cranberri wood ash combin delic almondbrittl sensat palat subtl restrain finess energi nuanc textur open strawberri crack black pepper great right live numberplu ',\n",
       " 'santa ynez valley stalwart explor slightli riper side grape bottl show fatter anjou pear keylim aroma also tighter chalk wet sidewalk tone sour greenappl skin aris sip alongsid lime zest acid notic raci ',\n",
       " 'simpl pear appl work larg nondescript nose back palat feel almost dilut finish mildli sweet turn empti bit bitter ',\n",
       " 'longtim admir may find number version bit thin subtl customari express funk subsum lighter layer peat moss sea salt white chocol decant scent shittak mushroom duck sauc even chicken broth swirl glass black tea flavor run tannin quit good yet somewhat mute ',\n",
       " 'easi see silver oak remain popular restaur crowd made restrain style mani napa cab there plenti berri currant fruit well oak accompani tobacco herb give earthi lack dazzl make eleg subtleti develop well least decad ',\n",
       " 'whitefruit melon aroma widespread mellow chalki feel citric acid charg flavor appl nectarin lime finish clean typic varieti region ',\n",
       " 'one best express classic cannubi vineyard area fragrant red finess open entic scent perfum berri iri rose chop herb bake spice new leather vibrant palat boast structur well almost ether eleg deliv succul red cherri crush strawberri cinnamon licoric wrap refin tannin bright acid lend impecc balanc number number ',\n",
       " 'melon appl aroma slightli dull harmless feel decent orang greenherb flavor finish citric green ',\n",
       " 'open attract floral aroma spanish broom acacia chamomil bright palat offer white peach green appl citru brisk acid give crisp clean finish note white almond signal close small persist bubbl add finess ',\n",
       " 'aroma violet iri ripe blackskin fruit dri grape whiff tobacco lead way fullbodi charmer smooth structur palat deliv dri cherri raspberri compot licoric cake spice velveti tannin provid support ',\n",
       " 'coconut macaroon blueberri blackberri preserv make juici satisfi mountaingrown spark black pepper finish full fresh acid complex light bodi restrain oak tannin readi enjoy ',\n",
       " 'vine close premier cru firm solid gener convey power structur along delici perfum side number ',\n",
       " 'name indic blend premier cru hold pinot noir chardonnay ripe yellow fruit appl flavor ting attract touch toasti rich champagn readi ',\n",
       " 'sourc kiona vineyard red mountain vinifi oregon featur brambl berrystrewn midpal dri leav spice ad interest roll pleasantli across palat tart fruiti finish ',\n",
       " 'show fine siduri charact silki dri pleasant pinot noir flavor cherri currant mocha cola doesnt weight densiti wineri singlevineyard price right ',\n",
       " 'pepper bridg stoney vine vineyard contribut equal number variet barrel influenc show first woodspic follow green herb coffe dark plum palat rich focus coffe dark fruit flavor touch astring ',\n",
       " 'rel lightweight soft stalki tannin flavor hedgerow fruit go welljudg layer smoki wood dri firm fresh ',\n",
       " 'slightli reduct nose bottl coastal vineyard outsid cambria show mossi forest floor jerk meat dri cranberri turn earth sesam oil salt nose palat combin concentr lush raspberri bay leaf lot turn earth chaparr season ',\n",
       " 'breadi aroma surli age layer note summer desserts—strawberryrhubarb crumbl peach compot lemonmeringu pie slight sweet add hedonist impress linger finish hungerinspir ',\n",
       " 'strawberri watermelon come togeth tart mediumbodi dri rosé juici red fruit doesnt offer much complex refresh easi ',\n",
       " 'gold capsul oldfield seri occupi sort reserv tier princip blend chardonnay sémillon sauvignon blanc splash viognier muscat ad aromat highlight snappi citru fruit light dust cinnamon make wellcraft versatil refresh option varieti seafood salad entré ',\n",
       " 'bake appl press white flower aroma take center stage structur white appl sensat follow palat along nectarin mediterranean herb hint nut bright acid add fresh ',\n",
       " 'blend cabernet sauvignon cabernet franc petit verdot carpoli aroma cedar black berri tobacco leaf palat deliv black currant along green black peppercorn layer espresso note pair spici marin steak ',\n",
       " 'pomegran fruit scent emerg alongsid licoric black oliv green tea appel blend esteem sommeli raj parr light bright palat plumskindriven tannic tart there much els go ',\n",
       " 'flavor aroma hazelnut dri apricot coconut layer lush white peach overal pretti well balanc lighthand finish floral tropic without sign oak ',\n",
       " 'red blend nose fresh cherri red plum clove mouth offer combin fruit spice flavor featur anis black plum chines five spice black cherri burst stillyouth acid finish drunk within next year two ',\n",
       " 'ripe rich aroma black cherri preserv offset earthi brambl tone cabsyrah blend lush full bodi palat juici black plum cherri flavor finish elegantli whisper fine grain tannin ',\n",
       " 'heavi duti purpl aroma blackberri chiffon blueberri pud lift strong dill element darkli layer bottl bake blueberri meet black oliv dill cut oregano held togeth strong tannic structur ',\n",
       " 'nose layer rang fragrant floral jasmin mango sorbet ripe nectarin ovenfresh croissant mouthfeel creami stone fruit banana flavor zingi acid power long finish ',\n",
       " 'somewhat odd find reservelevel pinot noir done entir neutral oak pretti cherri fruit come wrap tart acid tannin light suggest rather age ',\n",
       " 'ripe dri smooth flavor cherri violet plum sauc carob spice turn bitter sharp toward finish espresso scour ',\n",
       " 'blackberri blueberri mapl aroma announc rich ripe there also toast char nose mouth layer grabbi mossi blackfruit flavor end cool earthi swirl cola licoric blend number malbec number syrah stunner consum number ',\n",
       " 'wadleith offer full generos bright aroma yellow rose stone fruit follow touch almond cinnamon spice close smooth waxi feel touch heat close ',\n",
       " 'wood domin futur tast number calm merg easili rich fruit attract smoki charact focus berri flavor delici spice age well number–numb year ',\n",
       " 'miner herbac crisp taut textur show tangi charact lemon zest bright acid still young end number ',\n",
       " 'point semisweet bottl littl unclear offer beauti rich nose honeysuckl buttercream white peach almond past flint palat rich creami quit sweet peach melon mango flavor consid light dessert pair spici food ',\n",
       " 'juici ripe yet zesti bright—bal key deepli satisfi red blend lavishli fruiti nose finish waft sunkiss plum cherri palat maintain brisk upright demeanor boast vibrant acid fine persist frame tannin finish suppl silki hint linger nut skin ',\n",
       " 'fresh boister natur make great barbecu aroma blueberri jam condens lilac smoke meat invit fruitforward palat combin smoke boysenberri blueberri roast pork dri oregano uniqu saltandpepp compon ',\n",
       " 'stew black fruit prune raisin espresso exot spice aroma lead nose blend number cabernet sauvignon number cabernet franc dens concentr palat domin toast oak grill bell pepper note black plum sweeten coffe dark chocol sugari vanilla extract close note bitter wood tannin ',\n",
       " 'littl green mint flavor accompani modest blackberri cherri number variet show promis need greater concentr even price higher ',\n",
       " 'start finish there much go lamoreaux land yellow dog honey orang blossom aroma lace whisper musk bright lemonlim sweet balanc elegantli distinct miner evoc smoke slate stone brace acid drive linger finish ',\n",
       " 'here tempt valu see four month age larg oak cask character ripe berri candi fruit touch sweet cinnamon spice show youth densiti would make perfect match deep dish pizza ',\n",
       " 'easydrink blend number sangioves number cabernet sauvignon number merlot number malvasia spicelac ripe black cherri aroma light simpl palat show sour cherri clove soft tannin soon ',\n",
       " 'somewhat sharp tartli aggress jammi fruit raspberri cherri wintergreen mint cola flavor sweeten smoki wood note doe seem like ager rich meat oil chees soften hard ',\n",
       " 'power show berri fruit dark tannin layer acid structur fruiti juici great pasta readi ',\n",
       " 'complex intens black fruit sweet plum balanc tight acid go along dens dri tannin textur structur readi longterm age ',\n",
       " 'approach afford impress everi level combin raspberri vanilla plum flavor juici moder acid round textur fruit accent clove cedar bay leaf note ',\n",
       " 'percentag zinfandel play nice mediumbodi age almost two year french oak spici plum vanilla surround suppl tannin dri linger finish accent leather black pepper ',\n",
       " 'harvest number brix retain whop number gl residu sugar show complex medley note rang fresh bake appl pie apricot cinnamon thick rich feel stone fruit dri orang rind flavor persist longdrawnout finish ',\n",
       " 'blackberri cola herbal aroma form stout slightli green nose feel stocki clip oaki weight flavor roast berri fruit herbal oaki mint vanilla licoric wood resin flavor drive finish cabernetsyrah blend ',\n",
       " 'note sweet cherri prune blackberri cinnamon make immedi first impress evolv glass deliv slow puls cure meat bacon crush white pepper textur soft smooth silki ',\n",
       " 'smooth palat though perhap crisp dri countrymen still fragrant thyme rose note nose white pepper sweet yellow fruit flavor thread white pepper begin end hold togeth ',\n",
       " 'riserva brunello show eleg slightli astring characterist associ number vintag streamlin tight bright berri cassi cherri cola licoric aroma let age number–numb year ',\n",
       " 'earthi lightli herbal stew aroma spice plum prune raisin lead grabbi tannic somewhat abras palat given seven year past harvest interest rip gritti live feel herbal chunki flavor spice berri fruit residu oak close energi number ',\n",
       " 'pioneer rosé vinho verd produc make dri one rosé region realli make sens balanc crisp red fruit well tight acid shot lemon ',\n",
       " 'slightli funki aroma dri compost red purpl rose meet crush mint vanilla red berri nose complex bottl pomegran red plum strawberri fruit show palat bolster wet gravel thyme blackpepp spice ',\n",
       " 'sourc familyfarm vineyard first plant late number brawni robust number variet red offer meati black pepper bake plum along stewi spici backdrop fullbodi ripe weight tannin sizabl yet soft make foodfriendli ',\n",
       " 'blend cabernet sauvignon merlot cabernet franc opul open aroma black currant graphit bake spice juici concentr palat deliv black cherri blackberri tobacco licoric frame bold polish tannin number ',\n",
       " 'cool mint blueberri raisin aroma lush smooth char oak roar loud nose dryfarm syrah punchi short acid make mouthfeel abrupt dark chocol ripe berri flavor end hardspic blackberri everlast burntoak charact ',\n",
       " 'high alcohol give hot jalapeño pepper burn base zinfandel blend also includ syrah petit sirah rug rustic would shine richlysauc barbecu balanc ',\n",
       " ...}"
      ]
     },
     "metadata": {},
     "execution_count": 17
    }
   ],
   "source": [
    "xTrain['description'].ravel()"
   ]
  },
  {
   "cell_type": "code",
   "execution_count": null,
   "metadata": {},
   "outputs": [],
   "source": []
  }
 ],
 "metadata": {
  "kernelspec": {
   "display_name": "Python 3",
   "language": "python",
   "name": "python3"
  },
  "language_info": {
   "codemirror_mode": {
    "name": "ipython",
    "version": 2
   },
   "file_extension": ".py",
   "mimetype": "text/x-python",
   "name": "python",
   "nbconvert_exporter": "python",
   "pygments_lexer": "ipython2",
   "version": "3.8.5-final"
  }
 },
 "nbformat": 4,
 "nbformat_minor": 0
}