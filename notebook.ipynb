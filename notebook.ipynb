{
 "cells": [
  {
   "cell_type": "markdown",
   "source": [
    "# Preprocessing\n",
    "- Stem the Data (run/running/ran --> ran)\n",
    "- Identify the most commonly used words in decription\n",
    "- One hot encody top top 10(ish) of the nontrvial words\n",
    "- Scale the Data\n",
    "- PCA (95% of variation captured)\n",
    "\n",
    "# Models\n",
    "\n",
    "- Linear Regression\n",
    "- Decision Tree Regression\n",
    "- [Plot Tree Regression](https://scikit-learn.org/stable/auto_examples/tree/plot_tree_regression.html)\n",
    "- Perceptron\n",
    "- Neural Network\n",
    "\n",
    "# Set Hyperparameters\n",
    "\n",
    "Use 10-fold cross validation to tune hyperparameters\n",
    "- using RSS as an error metric?"
   ],
   "metadata": {
    "collapsed": false,
    "pycharm": {
     "name": "#%% md\n"
    }
   }
  },
  {
   "cell_type": "code",
   "execution_count": 3,
   "metadata": {},
   "outputs": [],
   "source": [
    "import pandas as pd\n",
    "import numpy as np\n",
    "from nltk.stem import PorterStemmer\n",
    "from nltk.tokenize import word_tokenize\n",
    "from nltk.corpus import stopwords#stopwords are words like \"is\", and \"the\"\n",
    "from sklearn.model_selection import train_test_split\n",
    "from tqdm import tqdm #pip install tqdm, loading bar for visualization\n",
    "import string#to access a convinient list of punctiation\n",
    "import re#to replace numbers in strings\n",
    "from collections import Counter\n",
    "from sklearn.feature_extraction.text import CountVectorizer"
   ]
  },
  {
   "cell_type": "code",
   "execution_count": 4,
   "metadata": {},
   "outputs": [],
   "source": [
    "\n",
    "df = pd.read_csv(\"data/winemag-data-130k-v2.csv\", index_col=0)"
   ]
  },
  {
   "cell_type": "code",
   "execution_count": 5,
   "metadata": {},
   "outputs": [
    {
     "output_type": "execute_result",
     "data": {
      "text/plain": [
       "    country                                        description  \\\n",
       "0     Italy  Aromas include tropical fruit, broom, brimston...   \n",
       "1  Portugal  This is ripe and fruity, a wine that is smooth...   \n",
       "2        US  Tart and snappy, the flavors of lime flesh and...   \n",
       "3        US  Pineapple rind, lemon pith and orange blossom ...   \n",
       "4        US  Much like the regular bottling from 2012, this...   \n",
       "\n",
       "                          designation  points  price           province  \\\n",
       "0                        Vulkà Bianco      87    NaN  Sicily & Sardinia   \n",
       "1                            Avidagos      87   15.0              Douro   \n",
       "2                                 NaN      87   14.0             Oregon   \n",
       "3                Reserve Late Harvest      87   13.0           Michigan   \n",
       "4  Vintner's Reserve Wild Child Block      87   65.0             Oregon   \n",
       "\n",
       "              region_1           region_2         taster_name  \\\n",
       "0                 Etna                NaN       Kerin O’Keefe   \n",
       "1                  NaN                NaN          Roger Voss   \n",
       "2    Willamette Valley  Willamette Valley        Paul Gregutt   \n",
       "3  Lake Michigan Shore                NaN  Alexander Peartree   \n",
       "4    Willamette Valley  Willamette Valley        Paul Gregutt   \n",
       "\n",
       "  taster_twitter_handle                                              title  \\\n",
       "0          @kerinokeefe                  Nicosia 2013 Vulkà Bianco  (Etna)   \n",
       "1            @vossroger      Quinta dos Avidagos 2011 Avidagos Red (Douro)   \n",
       "2           @paulgwine       Rainstorm 2013 Pinot Gris (Willamette Valley)   \n",
       "3                   NaN  St. Julian 2013 Reserve Late Harvest Riesling ...   \n",
       "4           @paulgwine   Sweet Cheeks 2012 Vintner's Reserve Wild Child...   \n",
       "\n",
       "          variety               winery  \n",
       "0     White Blend              Nicosia  \n",
       "1  Portuguese Red  Quinta dos Avidagos  \n",
       "2      Pinot Gris            Rainstorm  \n",
       "3        Riesling           St. Julian  \n",
       "4      Pinot Noir         Sweet Cheeks  "
      ],
      "text/html": "<div>\n<style scoped>\n    .dataframe tbody tr th:only-of-type {\n        vertical-align: middle;\n    }\n\n    .dataframe tbody tr th {\n        vertical-align: top;\n    }\n\n    .dataframe thead th {\n        text-align: right;\n    }\n</style>\n<table border=\"1\" class=\"dataframe\">\n  <thead>\n    <tr style=\"text-align: right;\">\n      <th></th>\n      <th>country</th>\n      <th>description</th>\n      <th>designation</th>\n      <th>points</th>\n      <th>price</th>\n      <th>province</th>\n      <th>region_1</th>\n      <th>region_2</th>\n      <th>taster_name</th>\n      <th>taster_twitter_handle</th>\n      <th>title</th>\n      <th>variety</th>\n      <th>winery</th>\n    </tr>\n  </thead>\n  <tbody>\n    <tr>\n      <th>0</th>\n      <td>Italy</td>\n      <td>Aromas include tropical fruit, broom, brimston...</td>\n      <td>Vulkà Bianco</td>\n      <td>87</td>\n      <td>NaN</td>\n      <td>Sicily &amp; Sardinia</td>\n      <td>Etna</td>\n      <td>NaN</td>\n      <td>Kerin O’Keefe</td>\n      <td>@kerinokeefe</td>\n      <td>Nicosia 2013 Vulkà Bianco  (Etna)</td>\n      <td>White Blend</td>\n      <td>Nicosia</td>\n    </tr>\n    <tr>\n      <th>1</th>\n      <td>Portugal</td>\n      <td>This is ripe and fruity, a wine that is smooth...</td>\n      <td>Avidagos</td>\n      <td>87</td>\n      <td>15.0</td>\n      <td>Douro</td>\n      <td>NaN</td>\n      <td>NaN</td>\n      <td>Roger Voss</td>\n      <td>@vossroger</td>\n      <td>Quinta dos Avidagos 2011 Avidagos Red (Douro)</td>\n      <td>Portuguese Red</td>\n      <td>Quinta dos Avidagos</td>\n    </tr>\n    <tr>\n      <th>2</th>\n      <td>US</td>\n      <td>Tart and snappy, the flavors of lime flesh and...</td>\n      <td>NaN</td>\n      <td>87</td>\n      <td>14.0</td>\n      <td>Oregon</td>\n      <td>Willamette Valley</td>\n      <td>Willamette Valley</td>\n      <td>Paul Gregutt</td>\n      <td>@paulgwine</td>\n      <td>Rainstorm 2013 Pinot Gris (Willamette Valley)</td>\n      <td>Pinot Gris</td>\n      <td>Rainstorm</td>\n    </tr>\n    <tr>\n      <th>3</th>\n      <td>US</td>\n      <td>Pineapple rind, lemon pith and orange blossom ...</td>\n      <td>Reserve Late Harvest</td>\n      <td>87</td>\n      <td>13.0</td>\n      <td>Michigan</td>\n      <td>Lake Michigan Shore</td>\n      <td>NaN</td>\n      <td>Alexander Peartree</td>\n      <td>NaN</td>\n      <td>St. Julian 2013 Reserve Late Harvest Riesling ...</td>\n      <td>Riesling</td>\n      <td>St. Julian</td>\n    </tr>\n    <tr>\n      <th>4</th>\n      <td>US</td>\n      <td>Much like the regular bottling from 2012, this...</td>\n      <td>Vintner's Reserve Wild Child Block</td>\n      <td>87</td>\n      <td>65.0</td>\n      <td>Oregon</td>\n      <td>Willamette Valley</td>\n      <td>Willamette Valley</td>\n      <td>Paul Gregutt</td>\n      <td>@paulgwine</td>\n      <td>Sweet Cheeks 2012 Vintner's Reserve Wild Child...</td>\n      <td>Pinot Noir</td>\n      <td>Sweet Cheeks</td>\n    </tr>\n  </tbody>\n</table>\n</div>"
     },
     "metadata": {},
     "execution_count": 5
    }
   ],
   "source": [
    "df.head()"
   ]
  },
  {
   "cell_type": "code",
   "execution_count": 29,
   "metadata": {},
   "outputs": [
    {
     "output_type": "stream",
     "name": "stdout",
     "text": [
      "country: 0.0485%\ndescription: 0.0%\ndesignation: 28.8257%\npoints: 0.0%\nprice: 6.9215%\nprovince: 0.0485%\nregion_1: 16.3475%\nregion_2: 61.1367%\ntaster_name: 20.1922%\ntaster_twitter_handle: 24.0154%\ntitle: 0.0%\nvariety: 0.0008%\nwinery: 0.0%\n"
     ]
    }
   ],
   "source": [
    "for attr in df:\n",
    "    print(f\"{attr}: {round((sum(df[attr].isnull())/df.shape[0])*100,4)}%\")"
   ]
  },
  {
   "cell_type": "code",
   "execution_count": 20,
   "metadata": {},
   "outputs": [],
   "source": [
    "# def text_stemming(df):\n",
    "#     stop_words = set(stopwords.words(\"english\"))\n",
    "#     unhelpful_words = set([\"wine\", \"drink\"])\n",
    "\n",
    "#     stemmer = PorterStemmer()\n",
    "#     xFeat = df.to_numpy()\n",
    "#     newDescription = []\n",
    "#     l = len(xFeat)\n",
    "#     for i in tqdm(range (l), desc=\"Stemming\"):\n",
    "#         wordList = word_tokenize(re.sub(r'\\d+', 'number', (xFeat[i].lower()).translate(str.maketrans('', '', string.punctuation)))) #splits the words into a list, and lowercases them\n",
    "#         description = []\n",
    "#         for item in wordList:\n",
    "#             if item not in stop_words:#we can get rid of stop words: \"is\", \"a\", \"the\"\n",
    "#                 candidate = stemmer.stem(item)\n",
    "#                 if candidate not in unhelpful_words:\n",
    "#                     description.append(candidate) #replace each word with its stem\n",
    "#         newDescription.append(description)\n",
    "\n",
    "#     return newDescription"
   ]
  },
  {
   "cell_type": "code",
   "execution_count": 6,
   "metadata": {},
   "outputs": [],
   "source": [
    "def text_stemming2(row):\n",
    "    stop_words = set(stopwords.words(\"english\"))\n",
    "    unhelpful_words = set([\"wine\", \"drink\"])\n",
    "    stemmer = PorterStemmer()\n",
    "    wordList = word_tokenize(re.sub(r'\\d+', 'number', (row.lower()).translate(str.maketrans('', '', string.punctuation))))\n",
    "    wordList = [ stemmer.stem(i) for i in wordList if (i not in stop_words and i not in unhelpful_words)]\n",
    "\n",
    "    return wordList\n"
   ]
  },
  {
   "cell_type": "code",
   "execution_count": 7,
   "metadata": {
    "tags": []
   },
   "outputs": [
    {
     "output_type": "execute_result",
     "data": {
      "text/plain": [
       "0         [aroma, includ, tropic, fruit, broom, brimston...\n",
       "1         [ripe, fruiti, smooth, still, structur, firm, ...\n",
       "2         [tart, snappi, flavor, lime, flesh, rind, domi...\n",
       "3         [pineappl, rind, lemon, pith, orang, blossom, ...\n",
       "4         [much, like, regular, bottl, number, come, acr...\n",
       "                                ...                        \n",
       "129966    [note, honeysuckl, cantaloup, sweeten, delici,...\n",
       "129967    [citat, given, much, decad, bottl, age, prior,...\n",
       "129968    [welldrain, gravel, soil, give, crisp, dri, ch...\n",
       "129969    [dri, style, pinot, gri, crisp, acid, also, we...\n",
       "129970    [big, rich, offdri, power, intens, spici, roun...\n",
       "Name: description, Length: 129971, dtype: object"
      ]
     },
     "metadata": {},
     "execution_count": 7
    }
   ],
   "source": [
    "df['stemmed'] = df['description'].apply(text_stemming2)"
   ]
  },
  {
   "cell_type": "code",
   "execution_count": 18,
   "metadata": {},
   "outputs": [],
   "source": [
    "df.dropna(subset=['price'], inplace=True)"
   ]
  },
  {
   "cell_type": "code",
   "execution_count": 10,
   "metadata": {},
   "outputs": [
    {
     "output_type": "execute_result",
     "data": {
      "text/plain": [
       "         country description                             designation  points  \\\n",
       "1       Portugal        ripe                                Avidagos      87   \n",
       "2             US        tart                                     NaN      87   \n",
       "3             US    pineappl                    Reserve Late Harvest      87   \n",
       "4             US        much      Vintner's Reserve Wild Child Block      87   \n",
       "5          Spain  blackberri                            Ars In Vitro      87   \n",
       "...          ...         ...                                     ...     ...   \n",
       "129966   Germany        note  Brauneberger Juffer-Sonnenuhr Spätlese      90   \n",
       "129967        US       citat                                     NaN      90   \n",
       "129968    France   welldrain                                   Kritt      90   \n",
       "129969    France         dri                                     NaN      90   \n",
       "129970    France         big           Lieu-dit Harth Cuvée Caroline      90   \n",
       "\n",
       "        price        province             region_1           region_2  \\\n",
       "1        15.0           Douro                  NaN                NaN   \n",
       "2        14.0          Oregon    Willamette Valley  Willamette Valley   \n",
       "3        13.0        Michigan  Lake Michigan Shore                NaN   \n",
       "4        65.0          Oregon    Willamette Valley  Willamette Valley   \n",
       "5        15.0  Northern Spain              Navarra                NaN   \n",
       "...       ...             ...                  ...                ...   \n",
       "129966   28.0           Mosel                  NaN                NaN   \n",
       "129967   75.0          Oregon               Oregon       Oregon Other   \n",
       "129968   30.0          Alsace               Alsace                NaN   \n",
       "129969   32.0          Alsace               Alsace                NaN   \n",
       "129970   21.0          Alsace               Alsace                NaN   \n",
       "\n",
       "               taster_name taster_twitter_handle  \\\n",
       "1               Roger Voss            @vossroger   \n",
       "2             Paul Gregutt           @paulgwine    \n",
       "3       Alexander Peartree                   NaN   \n",
       "4             Paul Gregutt           @paulgwine    \n",
       "5        Michael Schachner           @wineschach   \n",
       "...                    ...                   ...   \n",
       "129966  Anna Lee C. Iijima                   NaN   \n",
       "129967        Paul Gregutt           @paulgwine    \n",
       "129968          Roger Voss            @vossroger   \n",
       "129969          Roger Voss            @vossroger   \n",
       "129970          Roger Voss            @vossroger   \n",
       "\n",
       "                                                    title             variety  \\\n",
       "1           Quinta dos Avidagos 2011 Avidagos Red (Douro)      Portuguese Red   \n",
       "2           Rainstorm 2013 Pinot Gris (Willamette Valley)          Pinot Gris   \n",
       "3       St. Julian 2013 Reserve Late Harvest Riesling ...            Riesling   \n",
       "4       Sweet Cheeks 2012 Vintner's Reserve Wild Child...          Pinot Noir   \n",
       "5       Tandem 2011 Ars In Vitro Tempranillo-Merlot (N...  Tempranillo-Merlot   \n",
       "...                                                   ...                 ...   \n",
       "129966  Dr. H. Thanisch (Erben Müller-Burggraef) 2013 ...            Riesling   \n",
       "129967                  Citation 2004 Pinot Noir (Oregon)          Pinot Noir   \n",
       "129968  Domaine Gresser 2013 Kritt Gewurztraminer (Als...      Gewürztraminer   \n",
       "129969      Domaine Marcel Deiss 2012 Pinot Gris (Alsace)          Pinot Gris   \n",
       "129970  Domaine Schoffit 2012 Lieu-dit Harth Cuvée Car...      Gewürztraminer   \n",
       "\n",
       "                                          winery  \n",
       "1                            Quinta dos Avidagos  \n",
       "2                                      Rainstorm  \n",
       "3                                     St. Julian  \n",
       "4                                   Sweet Cheeks  \n",
       "5                                         Tandem  \n",
       "...                                          ...  \n",
       "129966  Dr. H. Thanisch (Erben Müller-Burggraef)  \n",
       "129967                                  Citation  \n",
       "129968                           Domaine Gresser  \n",
       "129969                      Domaine Marcel Deiss  \n",
       "129970                          Domaine Schoffit  \n",
       "\n",
       "[120975 rows x 13 columns]"
      ],
      "text/html": "<div>\n<style scoped>\n    .dataframe tbody tr th:only-of-type {\n        vertical-align: middle;\n    }\n\n    .dataframe tbody tr th {\n        vertical-align: top;\n    }\n\n    .dataframe thead th {\n        text-align: right;\n    }\n</style>\n<table border=\"1\" class=\"dataframe\">\n  <thead>\n    <tr style=\"text-align: right;\">\n      <th></th>\n      <th>country</th>\n      <th>description</th>\n      <th>designation</th>\n      <th>points</th>\n      <th>price</th>\n      <th>province</th>\n      <th>region_1</th>\n      <th>region_2</th>\n      <th>taster_name</th>\n      <th>taster_twitter_handle</th>\n      <th>title</th>\n      <th>variety</th>\n      <th>winery</th>\n    </tr>\n  </thead>\n  <tbody>\n    <tr>\n      <th>1</th>\n      <td>Portugal</td>\n      <td>ripe</td>\n      <td>Avidagos</td>\n      <td>87</td>\n      <td>15.0</td>\n      <td>Douro</td>\n      <td>NaN</td>\n      <td>NaN</td>\n      <td>Roger Voss</td>\n      <td>@vossroger</td>\n      <td>Quinta dos Avidagos 2011 Avidagos Red (Douro)</td>\n      <td>Portuguese Red</td>\n      <td>Quinta dos Avidagos</td>\n    </tr>\n    <tr>\n      <th>2</th>\n      <td>US</td>\n      <td>tart</td>\n      <td>NaN</td>\n      <td>87</td>\n      <td>14.0</td>\n      <td>Oregon</td>\n      <td>Willamette Valley</td>\n      <td>Willamette Valley</td>\n      <td>Paul Gregutt</td>\n      <td>@paulgwine</td>\n      <td>Rainstorm 2013 Pinot Gris (Willamette Valley)</td>\n      <td>Pinot Gris</td>\n      <td>Rainstorm</td>\n    </tr>\n    <tr>\n      <th>3</th>\n      <td>US</td>\n      <td>pineappl</td>\n      <td>Reserve Late Harvest</td>\n      <td>87</td>\n      <td>13.0</td>\n      <td>Michigan</td>\n      <td>Lake Michigan Shore</td>\n      <td>NaN</td>\n      <td>Alexander Peartree</td>\n      <td>NaN</td>\n      <td>St. Julian 2013 Reserve Late Harvest Riesling ...</td>\n      <td>Riesling</td>\n      <td>St. Julian</td>\n    </tr>\n    <tr>\n      <th>4</th>\n      <td>US</td>\n      <td>much</td>\n      <td>Vintner's Reserve Wild Child Block</td>\n      <td>87</td>\n      <td>65.0</td>\n      <td>Oregon</td>\n      <td>Willamette Valley</td>\n      <td>Willamette Valley</td>\n      <td>Paul Gregutt</td>\n      <td>@paulgwine</td>\n      <td>Sweet Cheeks 2012 Vintner's Reserve Wild Child...</td>\n      <td>Pinot Noir</td>\n      <td>Sweet Cheeks</td>\n    </tr>\n    <tr>\n      <th>5</th>\n      <td>Spain</td>\n      <td>blackberri</td>\n      <td>Ars In Vitro</td>\n      <td>87</td>\n      <td>15.0</td>\n      <td>Northern Spain</td>\n      <td>Navarra</td>\n      <td>NaN</td>\n      <td>Michael Schachner</td>\n      <td>@wineschach</td>\n      <td>Tandem 2011 Ars In Vitro Tempranillo-Merlot (N...</td>\n      <td>Tempranillo-Merlot</td>\n      <td>Tandem</td>\n    </tr>\n    <tr>\n      <th>...</th>\n      <td>...</td>\n      <td>...</td>\n      <td>...</td>\n      <td>...</td>\n      <td>...</td>\n      <td>...</td>\n      <td>...</td>\n      <td>...</td>\n      <td>...</td>\n      <td>...</td>\n      <td>...</td>\n      <td>...</td>\n      <td>...</td>\n    </tr>\n    <tr>\n      <th>129966</th>\n      <td>Germany</td>\n      <td>note</td>\n      <td>Brauneberger Juffer-Sonnenuhr Spätlese</td>\n      <td>90</td>\n      <td>28.0</td>\n      <td>Mosel</td>\n      <td>NaN</td>\n      <td>NaN</td>\n      <td>Anna Lee C. Iijima</td>\n      <td>NaN</td>\n      <td>Dr. H. Thanisch (Erben Müller-Burggraef) 2013 ...</td>\n      <td>Riesling</td>\n      <td>Dr. H. Thanisch (Erben Müller-Burggraef)</td>\n    </tr>\n    <tr>\n      <th>129967</th>\n      <td>US</td>\n      <td>citat</td>\n      <td>NaN</td>\n      <td>90</td>\n      <td>75.0</td>\n      <td>Oregon</td>\n      <td>Oregon</td>\n      <td>Oregon Other</td>\n      <td>Paul Gregutt</td>\n      <td>@paulgwine</td>\n      <td>Citation 2004 Pinot Noir (Oregon)</td>\n      <td>Pinot Noir</td>\n      <td>Citation</td>\n    </tr>\n    <tr>\n      <th>129968</th>\n      <td>France</td>\n      <td>welldrain</td>\n      <td>Kritt</td>\n      <td>90</td>\n      <td>30.0</td>\n      <td>Alsace</td>\n      <td>Alsace</td>\n      <td>NaN</td>\n      <td>Roger Voss</td>\n      <td>@vossroger</td>\n      <td>Domaine Gresser 2013 Kritt Gewurztraminer (Als...</td>\n      <td>Gewürztraminer</td>\n      <td>Domaine Gresser</td>\n    </tr>\n    <tr>\n      <th>129969</th>\n      <td>France</td>\n      <td>dri</td>\n      <td>NaN</td>\n      <td>90</td>\n      <td>32.0</td>\n      <td>Alsace</td>\n      <td>Alsace</td>\n      <td>NaN</td>\n      <td>Roger Voss</td>\n      <td>@vossroger</td>\n      <td>Domaine Marcel Deiss 2012 Pinot Gris (Alsace)</td>\n      <td>Pinot Gris</td>\n      <td>Domaine Marcel Deiss</td>\n    </tr>\n    <tr>\n      <th>129970</th>\n      <td>France</td>\n      <td>big</td>\n      <td>Lieu-dit Harth Cuvée Caroline</td>\n      <td>90</td>\n      <td>21.0</td>\n      <td>Alsace</td>\n      <td>Alsace</td>\n      <td>NaN</td>\n      <td>Roger Voss</td>\n      <td>@vossroger</td>\n      <td>Domaine Schoffit 2012 Lieu-dit Harth Cuvée Car...</td>\n      <td>Gewürztraminer</td>\n      <td>Domaine Schoffit</td>\n    </tr>\n  </tbody>\n</table>\n<p>120975 rows × 13 columns</p>\n</div>"
     },
     "metadata": {},
     "execution_count": 10
    }
   ],
   "source": [
    "df.head()"
   ]
  },
  {
   "source": [
    "# Vectorize"
   ],
   "cell_type": "markdown",
   "metadata": {}
  },
  {
   "cell_type": "code",
   "execution_count": 11,
   "metadata": {},
   "outputs": [],
   "source": [
    "df.to_csv(\"data/data_stemmed.csv\", index = False)"
   ]
  },
  {
   "cell_type": "code",
   "execution_count": 12,
   "metadata": {},
   "outputs": [
    {
     "output_type": "execute_result",
     "data": {
      "text/plain": [
       "    country description                         designation  points  price  \\\n",
       "0  Portugal        ripe                            Avidagos      87   15.0   \n",
       "1        US        tart                                 NaN      87   14.0   \n",
       "2        US    pineappl                Reserve Late Harvest      87   13.0   \n",
       "3        US        much  Vintner's Reserve Wild Child Block      87   65.0   \n",
       "4     Spain  blackberri                        Ars In Vitro      87   15.0   \n",
       "\n",
       "         province             region_1           region_2         taster_name  \\\n",
       "0           Douro                  NaN                NaN          Roger Voss   \n",
       "1          Oregon    Willamette Valley  Willamette Valley        Paul Gregutt   \n",
       "2        Michigan  Lake Michigan Shore                NaN  Alexander Peartree   \n",
       "3          Oregon    Willamette Valley  Willamette Valley        Paul Gregutt   \n",
       "4  Northern Spain              Navarra                NaN   Michael Schachner   \n",
       "\n",
       "  taster_twitter_handle                                              title  \\\n",
       "0            @vossroger      Quinta dos Avidagos 2011 Avidagos Red (Douro)   \n",
       "1           @paulgwine       Rainstorm 2013 Pinot Gris (Willamette Valley)   \n",
       "2                   NaN  St. Julian 2013 Reserve Late Harvest Riesling ...   \n",
       "3           @paulgwine   Sweet Cheeks 2012 Vintner's Reserve Wild Child...   \n",
       "4           @wineschach  Tandem 2011 Ars In Vitro Tempranillo-Merlot (N...   \n",
       "\n",
       "              variety               winery  \n",
       "0      Portuguese Red  Quinta dos Avidagos  \n",
       "1          Pinot Gris            Rainstorm  \n",
       "2            Riesling           St. Julian  \n",
       "3          Pinot Noir         Sweet Cheeks  \n",
       "4  Tempranillo-Merlot               Tandem  "
      ],
      "text/html": "<div>\n<style scoped>\n    .dataframe tbody tr th:only-of-type {\n        vertical-align: middle;\n    }\n\n    .dataframe tbody tr th {\n        vertical-align: top;\n    }\n\n    .dataframe thead th {\n        text-align: right;\n    }\n</style>\n<table border=\"1\" class=\"dataframe\">\n  <thead>\n    <tr style=\"text-align: right;\">\n      <th></th>\n      <th>country</th>\n      <th>description</th>\n      <th>designation</th>\n      <th>points</th>\n      <th>price</th>\n      <th>province</th>\n      <th>region_1</th>\n      <th>region_2</th>\n      <th>taster_name</th>\n      <th>taster_twitter_handle</th>\n      <th>title</th>\n      <th>variety</th>\n      <th>winery</th>\n    </tr>\n  </thead>\n  <tbody>\n    <tr>\n      <th>0</th>\n      <td>Portugal</td>\n      <td>ripe</td>\n      <td>Avidagos</td>\n      <td>87</td>\n      <td>15.0</td>\n      <td>Douro</td>\n      <td>NaN</td>\n      <td>NaN</td>\n      <td>Roger Voss</td>\n      <td>@vossroger</td>\n      <td>Quinta dos Avidagos 2011 Avidagos Red (Douro)</td>\n      <td>Portuguese Red</td>\n      <td>Quinta dos Avidagos</td>\n    </tr>\n    <tr>\n      <th>1</th>\n      <td>US</td>\n      <td>tart</td>\n      <td>NaN</td>\n      <td>87</td>\n      <td>14.0</td>\n      <td>Oregon</td>\n      <td>Willamette Valley</td>\n      <td>Willamette Valley</td>\n      <td>Paul Gregutt</td>\n      <td>@paulgwine</td>\n      <td>Rainstorm 2013 Pinot Gris (Willamette Valley)</td>\n      <td>Pinot Gris</td>\n      <td>Rainstorm</td>\n    </tr>\n    <tr>\n      <th>2</th>\n      <td>US</td>\n      <td>pineappl</td>\n      <td>Reserve Late Harvest</td>\n      <td>87</td>\n      <td>13.0</td>\n      <td>Michigan</td>\n      <td>Lake Michigan Shore</td>\n      <td>NaN</td>\n      <td>Alexander Peartree</td>\n      <td>NaN</td>\n      <td>St. Julian 2013 Reserve Late Harvest Riesling ...</td>\n      <td>Riesling</td>\n      <td>St. Julian</td>\n    </tr>\n    <tr>\n      <th>3</th>\n      <td>US</td>\n      <td>much</td>\n      <td>Vintner's Reserve Wild Child Block</td>\n      <td>87</td>\n      <td>65.0</td>\n      <td>Oregon</td>\n      <td>Willamette Valley</td>\n      <td>Willamette Valley</td>\n      <td>Paul Gregutt</td>\n      <td>@paulgwine</td>\n      <td>Sweet Cheeks 2012 Vintner's Reserve Wild Child...</td>\n      <td>Pinot Noir</td>\n      <td>Sweet Cheeks</td>\n    </tr>\n    <tr>\n      <th>4</th>\n      <td>Spain</td>\n      <td>blackberri</td>\n      <td>Ars In Vitro</td>\n      <td>87</td>\n      <td>15.0</td>\n      <td>Northern Spain</td>\n      <td>Navarra</td>\n      <td>NaN</td>\n      <td>Michael Schachner</td>\n      <td>@wineschach</td>\n      <td>Tandem 2011 Ars In Vitro Tempranillo-Merlot (N...</td>\n      <td>Tempranillo-Merlot</td>\n      <td>Tandem</td>\n    </tr>\n  </tbody>\n</table>\n</div>"
     },
     "metadata": {},
     "execution_count": 12
    }
   ],
   "source": [
    "stemmed = pd.read_csv(\"data/data_stemmed.csv\")\n",
    "stemmed.head()"
   ]
  },
  {
   "cell_type": "code",
   "execution_count": 13,
   "metadata": {},
   "outputs": [
    {
     "output_type": "stream",
     "name": "stdout",
     "text": [
      "Vectorizing...\n",
      "[('aroma', 3718), ('blend', 2942), ('made', 2413), ('ripe', 2295), ('rich', 1720), ('soft', 1610), ('light', 1546), ('number', 1413), ('there', 1252), ('fresh', 1219)]\n"
     ]
    }
   ],
   "source": [
    "vectorizer = CountVectorizer(analyzer='word', tokenizer=word_tokenize, ngram_range=(1, 1), min_df=1)\n",
    "print(\"Vectorizing...\")\n",
    "splitWords = vectorizer.fit_transform(stemmed['description'])\n",
    "vocabMap = list(vectorizer.get_feature_names())\n",
    "# Taken from http://stackoverflow.com/questions/3337301/numpy-matrix-to-array\n",
    "# and http://stackoverflow.com/questions/13567345/how-to-calculate-the-sum-of-all-columns-of-a-2d-numpy-array-efficiently\n",
    "counts = splitWords.sum(axis=0).A1\n",
    "finalMap = Counter(dict(zip(vocabMap, counts)))\n",
    "print(finalMap.most_common(10))"
   ]
  },
  {
   "cell_type": "code",
   "execution_count": 14,
   "metadata": {},
   "outputs": [
    {
     "output_type": "stream",
     "name": "stdout",
     "text": [
      "[('aroma', 3718), ('blend', 2942), ('made', 2413), ('ripe', 2295), ('rich', 1720), ('soft', 1610), ('light', 1546), ('number', 1413), ('there', 1252), ('fresh', 1219), ('open', 1128), ('here', 1111), ('dri', 1081), ('dark', 1077), ('nose', 946), ('big', 892), ('bright', 858), ('one', 852), ('show', 813), ('earthi', 741), ('crisp', 721), ('good', 711), ('sweet', 643), ('simpl', 606), ('produc', 585), ('pretti', 583), ('intens', 579), ('beauti', 563), ('full', 542), ('smooth', 519), ('fruiti', 502)]\n"
     ]
    }
   ],
   "source": [
    "print(finalMap.most_common(31))"
   ]
  },
  {
   "cell_type": "code",
   "execution_count": 15,
   "metadata": {},
   "outputs": [],
   "source": [
    " xTrain, xTest, yTrain, yTest = train_test_split(df.loc[:, df.columns != 'price'], df['price'], test_size =.3, random_state = 334)"
   ]
  },
  {
   "source": [
    "# Neural Network\n",
    "\n",
    "Using RNN"
   ],
   "cell_type": "markdown",
   "metadata": {}
  },
  {
   "cell_type": "code",
   "execution_count": 16,
   "metadata": {},
   "outputs": [],
   "source": [
    "import torch\n",
    "import torch.nn as nn\n",
    "from torch.utils.data import TensorDataset, Dataset, DataLoader, random_split\n",
    "from torch.nn import functional as F\n",
    "\n",
    "if not torch.cuda.is_available():\n",
    "    raise EnvironmentError(\"CUDA not available, skipping neural network\")"
   ]
  },
  {
   "cell_type": "code",
   "execution_count": 17,
   "metadata": {},
   "outputs": [
    {
     "output_type": "execute_result",
     "data": {
      "text/plain": [
       "array(['pink', 'pesquié', 'richli', ..., 'aroma', 'delici', 'atyp'],\n",
       "      dtype=object)"
      ]
     },
     "metadata": {},
     "execution_count": 17
    }
   ],
   "source": [
    "xTrain['description'].ravel()"
   ]
  },
  {
   "cell_type": "code",
   "execution_count": null,
   "metadata": {},
   "outputs": [],
   "source": []
  }
 ],
 "metadata": {
  "kernelspec": {
   "display_name": "Python 3",
   "language": "python",
   "name": "python3"
  },
  "language_info": {
   "codemirror_mode": {
    "name": "ipython",
    "version": 2
   },
   "file_extension": ".py",
   "mimetype": "text/x-python",
   "name": "python",
   "nbconvert_exporter": "python",
   "pygments_lexer": "ipython2",
   "version": "3.8.5-final"
  }
 },
 "nbformat": 4,
 "nbformat_minor": 0
}